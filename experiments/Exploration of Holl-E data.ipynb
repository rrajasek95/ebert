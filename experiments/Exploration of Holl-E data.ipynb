{
 "cells": [
  {
   "cell_type": "code",
   "execution_count": 27,
   "metadata": {},
   "outputs": [],
   "source": [
    "import json\n",
    "import pandas as pd\n",
    "import numpy as np\n",
    "import seaborn as sns\n",
    "import matplotlib.pyplot as plt\n",
    "import itertools"
   ]
  },
  {
   "cell_type": "code",
   "execution_count": 2,
   "metadata": {},
   "outputs": [],
   "source": [
    "with open('holle/main_data/train_data.json', 'r') as holle_train:\n",
    "    train_data = json.load(holle_train)"
   ]
  },
  {
   "cell_type": "code",
   "execution_count": 3,
   "metadata": {},
   "outputs": [
    {
     "name": "stdout",
     "output_type": "stream",
     "text": [
      "Key: documents (Type: <class 'dict'>)\n",
      "Key: movie_name (Type: <class 'str'>)\n",
      "Key: spans (Type: <class 'list'>)\n",
      "Key: labels (Type: <class 'list'>)\n",
      "Key: imdb_id (Type: <class 'str'>)\n",
      "Key: chat_id (Type: <class 'str'>)\n",
      "Key: chat (Type: <class 'list'>)\n"
     ]
    }
   ],
   "source": [
    "data_keys = train_data[0].keys()\n",
    "\n",
    "data_keys\n",
    "\n",
    "for key,val in train_data[0].items():\n",
    "    print(\"Key: {} (Type: {})\".format(key, type(val)))"
   ]
  },
  {
   "cell_type": "code",
   "execution_count": 4,
   "metadata": {},
   "outputs": [
    {
     "name": "stdout",
     "output_type": "stream",
     "text": [
      "Key: plot (Type: <class 'str'>)\n",
      "Key: review (Type: <class 'str'>)\n",
      "Key: fact_table (Type: <class 'dict'>)\n",
      "Key: comments (Type: <class 'list'>)\n"
     ]
    }
   ],
   "source": [
    "train_document_keys = train_data[0]['documents'].keys()\n",
    "\n",
    "train_document_keys\n",
    "\n",
    "for key,val in train_data[0]['documents'].items():\n",
    "    print(\"Key: {} (Type: {})\".format(key, type(val)))"
   ]
  },
  {
   "cell_type": "code",
   "execution_count": 7,
   "metadata": {},
   "outputs": [],
   "source": [
    "chat_document_information = []\n",
    "for chat in train_data:\n",
    "    \n",
    "    documents = chat['documents']\n",
    "    chat_info = dict()\n",
    "    chat_info['plot_length']  = len(documents['plot'])\n",
    "    chat_info['plot_word_count'] = len(documents['plot'].split(' '))\n",
    "    chat_info['review_length'] = len(documents['review'])\n",
    "    chat_info['review_word_count'] = len(documents['review'].split(' '))\n",
    "    chat_info['num_comments'] = len(documents['comments'])\n",
    "    chat_info['comment_lengths'] = [len(comment) for comment in documents['comments']]\n",
    "    chat_info['comment_word_counts'] = [len(comment.split(\" \")) for comment in documents['comments']]\n",
    "    \n",
    "    chat_document_information.append(chat_info)\n",
    "    \n",
    "chat_document_information[:10]\n",
    "\n",
    "chat_summary_df = pd.DataFrame.from_dict(chat_document_information)"
   ]
  },
  {
   "cell_type": "code",
   "execution_count": 8,
   "metadata": {},
   "outputs": [
    {
     "data": {
      "text/html": [
       "<div>\n",
       "<style scoped>\n",
       "    .dataframe tbody tr th:only-of-type {\n",
       "        vertical-align: middle;\n",
       "    }\n",
       "\n",
       "    .dataframe tbody tr th {\n",
       "        vertical-align: top;\n",
       "    }\n",
       "\n",
       "    .dataframe thead th {\n",
       "        text-align: right;\n",
       "    }\n",
       "</style>\n",
       "<table border=\"1\" class=\"dataframe\">\n",
       "  <thead>\n",
       "    <tr style=\"text-align: right;\">\n",
       "      <th></th>\n",
       "      <th>plot_length</th>\n",
       "      <th>plot_word_count</th>\n",
       "      <th>review_length</th>\n",
       "      <th>review_word_count</th>\n",
       "      <th>num_comments</th>\n",
       "      <th>comment_lengths</th>\n",
       "      <th>comment_word_counts</th>\n",
       "    </tr>\n",
       "  </thead>\n",
       "  <tbody>\n",
       "    <tr>\n",
       "      <th>0</th>\n",
       "      <td>1366</td>\n",
       "      <td>244</td>\n",
       "      <td>3303</td>\n",
       "      <td>566</td>\n",
       "      <td>15</td>\n",
       "      <td>[86, 29, 40, 21, 32, 52, 121, 28, 62, 51, 2, 2...</td>\n",
       "      <td>[16, 6, 7, 5, 6, 12, 24, 6, 14, 10, 1, 1, 1, 1...</td>\n",
       "    </tr>\n",
       "    <tr>\n",
       "      <th>1</th>\n",
       "      <td>1718</td>\n",
       "      <td>297</td>\n",
       "      <td>1639</td>\n",
       "      <td>294</td>\n",
       "      <td>10</td>\n",
       "      <td>[70, 45, 17, 60, 30, 28, 40, 77, 42, 73]</td>\n",
       "      <td>[13, 10, 3, 12, 5, 6, 8, 13, 5, 12]</td>\n",
       "    </tr>\n",
       "    <tr>\n",
       "      <th>2</th>\n",
       "      <td>1162</td>\n",
       "      <td>209</td>\n",
       "      <td>1601</td>\n",
       "      <td>255</td>\n",
       "      <td>24</td>\n",
       "      <td>[131, 45, 31, 43, 249, 96, 39, 70, 64, 82, 43,...</td>\n",
       "      <td>[25, 6, 6, 6, 43, 18, 6, 12, 12, 10, 6, 7, 9, ...</td>\n",
       "    </tr>\n",
       "    <tr>\n",
       "      <th>3</th>\n",
       "      <td>981</td>\n",
       "      <td>167</td>\n",
       "      <td>702</td>\n",
       "      <td>129</td>\n",
       "      <td>21</td>\n",
       "      <td>[50, 38, 15, 528, 37, 108, 119, 144, 62, 43, 6...</td>\n",
       "      <td>[10, 6, 2, 92, 6, 19, 24, 27, 10, 7, 11, 12, 1...</td>\n",
       "    </tr>\n",
       "    <tr>\n",
       "      <th>4</th>\n",
       "      <td>1180</td>\n",
       "      <td>213</td>\n",
       "      <td>1010</td>\n",
       "      <td>178</td>\n",
       "      <td>24</td>\n",
       "      <td>[50, 56, 34, 50, 139, 23, 89, 40, 38, 99, 56, ...</td>\n",
       "      <td>[10, 9, 7, 9, 25, 4, 20, 6, 6, 20, 10, 7, 11, ...</td>\n",
       "    </tr>\n",
       "    <tr>\n",
       "      <th>...</th>\n",
       "      <td>...</td>\n",
       "      <td>...</td>\n",
       "      <td>...</td>\n",
       "      <td>...</td>\n",
       "      <td>...</td>\n",
       "      <td>...</td>\n",
       "      <td>...</td>\n",
       "    </tr>\n",
       "    <tr>\n",
       "      <th>7223</th>\n",
       "      <td>1369</td>\n",
       "      <td>236</td>\n",
       "      <td>2181</td>\n",
       "      <td>384</td>\n",
       "      <td>33</td>\n",
       "      <td>[38, 57, 12, 77, 62, 52, 124, 121, 50, 55, 120...</td>\n",
       "      <td>[8, 12, 2, 12, 11, 9, 21, 23, 7, 11, 23, 20, 1...</td>\n",
       "    </tr>\n",
       "    <tr>\n",
       "      <th>7224</th>\n",
       "      <td>0</td>\n",
       "      <td>1</td>\n",
       "      <td>3309</td>\n",
       "      <td>567</td>\n",
       "      <td>47</td>\n",
       "      <td>[39, 92, 95, 15, 89, 96, 78, 60, 75, 22, 86, 1...</td>\n",
       "      <td>[10, 14, 16, 3, 16, 19, 11, 6, 15, 4, 15, 21, ...</td>\n",
       "    </tr>\n",
       "    <tr>\n",
       "      <th>7225</th>\n",
       "      <td>1063</td>\n",
       "      <td>217</td>\n",
       "      <td>2765</td>\n",
       "      <td>500</td>\n",
       "      <td>20</td>\n",
       "      <td>[90, 4, 113, 36, 84, 48, 116, 135, 112, 111, 1...</td>\n",
       "      <td>[19, 1, 20, 5, 15, 8, 22, 25, 20, 20, 22, 38, ...</td>\n",
       "    </tr>\n",
       "    <tr>\n",
       "      <th>7226</th>\n",
       "      <td>1324</td>\n",
       "      <td>246</td>\n",
       "      <td>2035</td>\n",
       "      <td>376</td>\n",
       "      <td>15</td>\n",
       "      <td>[11, 39, 62, 75, 79, 283, 58, 60, 131, 33, 62,...</td>\n",
       "      <td>[1, 6, 10, 15, 12, 52, 11, 11, 24, 7, 10, 13, ...</td>\n",
       "    </tr>\n",
       "    <tr>\n",
       "      <th>7227</th>\n",
       "      <td>1012</td>\n",
       "      <td>190</td>\n",
       "      <td>1014</td>\n",
       "      <td>174</td>\n",
       "      <td>28</td>\n",
       "      <td>[138, 127, 121, 49, 80, 144, 135, 51, 83, 32, ...</td>\n",
       "      <td>[22, 23, 22, 9, 16, 26, 24, 10, 14, 6, 25, 18,...</td>\n",
       "    </tr>\n",
       "  </tbody>\n",
       "</table>\n",
       "<p>7228 rows × 7 columns</p>\n",
       "</div>"
      ],
      "text/plain": [
       "      plot_length  plot_word_count  review_length  review_word_count  \\\n",
       "0            1366              244           3303                566   \n",
       "1            1718              297           1639                294   \n",
       "2            1162              209           1601                255   \n",
       "3             981              167            702                129   \n",
       "4            1180              213           1010                178   \n",
       "...           ...              ...            ...                ...   \n",
       "7223         1369              236           2181                384   \n",
       "7224            0                1           3309                567   \n",
       "7225         1063              217           2765                500   \n",
       "7226         1324              246           2035                376   \n",
       "7227         1012              190           1014                174   \n",
       "\n",
       "      num_comments                                    comment_lengths  \\\n",
       "0               15  [86, 29, 40, 21, 32, 52, 121, 28, 62, 51, 2, 2...   \n",
       "1               10           [70, 45, 17, 60, 30, 28, 40, 77, 42, 73]   \n",
       "2               24  [131, 45, 31, 43, 249, 96, 39, 70, 64, 82, 43,...   \n",
       "3               21  [50, 38, 15, 528, 37, 108, 119, 144, 62, 43, 6...   \n",
       "4               24  [50, 56, 34, 50, 139, 23, 89, 40, 38, 99, 56, ...   \n",
       "...            ...                                                ...   \n",
       "7223            33  [38, 57, 12, 77, 62, 52, 124, 121, 50, 55, 120...   \n",
       "7224            47  [39, 92, 95, 15, 89, 96, 78, 60, 75, 22, 86, 1...   \n",
       "7225            20  [90, 4, 113, 36, 84, 48, 116, 135, 112, 111, 1...   \n",
       "7226            15  [11, 39, 62, 75, 79, 283, 58, 60, 131, 33, 62,...   \n",
       "7227            28  [138, 127, 121, 49, 80, 144, 135, 51, 83, 32, ...   \n",
       "\n",
       "                                    comment_word_counts  \n",
       "0     [16, 6, 7, 5, 6, 12, 24, 6, 14, 10, 1, 1, 1, 1...  \n",
       "1                   [13, 10, 3, 12, 5, 6, 8, 13, 5, 12]  \n",
       "2     [25, 6, 6, 6, 43, 18, 6, 12, 12, 10, 6, 7, 9, ...  \n",
       "3     [10, 6, 2, 92, 6, 19, 24, 27, 10, 7, 11, 12, 1...  \n",
       "4     [10, 9, 7, 9, 25, 4, 20, 6, 6, 20, 10, 7, 11, ...  \n",
       "...                                                 ...  \n",
       "7223  [8, 12, 2, 12, 11, 9, 21, 23, 7, 11, 23, 20, 1...  \n",
       "7224  [10, 14, 16, 3, 16, 19, 11, 6, 15, 4, 15, 21, ...  \n",
       "7225  [19, 1, 20, 5, 15, 8, 22, 25, 20, 20, 22, 38, ...  \n",
       "7226  [1, 6, 10, 15, 12, 52, 11, 11, 24, 7, 10, 13, ...  \n",
       "7227  [22, 23, 22, 9, 16, 26, 24, 10, 14, 6, 25, 18,...  \n",
       "\n",
       "[7228 rows x 7 columns]"
      ]
     },
     "execution_count": 8,
     "metadata": {},
     "output_type": "execute_result"
    }
   ],
   "source": [
    "chat_summary_df"
   ]
  },
  {
   "cell_type": "code",
   "execution_count": 51,
   "metadata": {},
   "outputs": [
    {
     "data": {
      "text/plain": [
       "<matplotlib.axes._subplots.AxesSubplot at 0x7fca1dfe7c10>"
      ]
     },
     "execution_count": 51,
     "metadata": {},
     "output_type": "execute_result"
    },
    {
     "data": {
      "image/png": "[encoded data removed]",
      "text/plain": [
       "<Figure size 504x504 with 1 Axes>"
      ]
     },
     "metadata": {
      "needs_background": "light"
     },
     "output_type": "display_data"
    }
   ],
   "source": [
    "fig, axes = plt.subplots(1, 1, figsize=(7, 7))\n",
    "sns.distplot(chat_summary_df['plot_length'], ax=axes)\n",
    "sns.distplot(chat_summary_df['review_length'], ax=axes)\n",
    "sns.distplot(list(itertools.chain.from_iterable(chat_summary_df['comment_lengths'].values)))"
   ]
  },
  {
   "cell_type": "code",
   "execution_count": 45,
   "metadata": {},
   "outputs": [
    {
     "data": {
      "text/plain": [
       "<matplotlib.legend.Legend at 0x7fca1f2a4810>"
      ]
     },
     "execution_count": 45,
     "metadata": {},
     "output_type": "execute_result"
    },
    {
     "data": {
      "image/png": "[encoded data removed]",
      "text/plain": [
       "<Figure size 504x504 with 1 Axes>"
      ]
     },
     "metadata": {
      "needs_background": "light"
     },
     "output_type": "display_data"
    }
   ],
   "source": [
    "fig, axes = plt.subplots(1, 1, figsize=(7, 7))\n",
    "sns.distplot(chat_summary_df['plot_word_count'], label='Plot Word Count', ax=axes)\n",
    "sns.distplot(chat_summary_df['review_word_count'], label='Review Word Counts', ax=axes)\n",
    "sns.distplot(list(itertools.chain.from_iterable(chat_summary_df['comment_word_counts'].values)), \n",
    "             label='Comment Word Counts')\n",
    "axes.legend()"
   ]
  },
  {
   "cell_type": "code",
   "execution_count": 48,
   "metadata": {},
   "outputs": [
    {
     "data": {
      "text/plain": [
       "<matplotlib.axes._subplots.AxesSubplot at 0x7fca1dfbddd0>"
      ]
     },
     "execution_count": 48,
     "metadata": {},
     "output_type": "execute_result"
    },
    {
     "data": {
      "image/png": "[encoded data removed]",
      "text/plain": [
       "<Figure size 504x504 with 1 Axes>"
      ]
     },
     "metadata": {
      "needs_background": "light"
     },
     "output_type": "display_data"
    }
   ],
   "source": [
    "fig, axes = plt.subplots(1, 1, figsize=(7, 7))\n",
    "sns.distplot(chat_summary_df['num_comments'], \n",
    "             label='Number of Comments')"
   ]
  },
  {
   "cell_type": "code",
   "execution_count": null,
   "metadata": {},
   "outputs": [],
   "source": []
  }
 ],
 "metadata": {
  "kernelspec": {
   "display_name": "ebert",
   "language": "python",
   "name": "ebert"
  },
  "language_info": {
   "codemirror_mode": {
    "name": "ipython",
    "version": 3
   },
   "file_extension": ".py",
   "mimetype": "text/x-python",
   "name": "python",
   "nbconvert_exporter": "python",
   "pygments_lexer": "ipython3",
   "version": "3.7.6"
  }
 },
 "nbformat": 4,
 "nbformat_minor": 4
}
